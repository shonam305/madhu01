{
 "cells": [
  {
   "cell_type": "markdown",
   "metadata": {},
   "source": [
    "Problem Statement 1:\n",
    "Blood glucose levels for obese patients have a mean of 100 with a standard deviation of 15. A researcher thinks that a diet high in raw cornstarch will have a positive effect on \n",
    "blood glucose levels. A sample of 36 patients who have tried the raw cornstarch diet \n",
    "have a mean glucose level of 108. Test the hypothesis that the raw cornstarch had an \n",
    "effect or not."
   ]
  },
  {
   "cell_type": "markdown",
   "metadata": {},
   "source": [
    "Z =X − np/√np(1 − p)\n",
    "n → ∞\n",
    "is the standard normal distribution\n",
    "\n",
    "This approximation is good when n is large and p is not\n",
    "extremely close to 0 or 1"
   ]
  },
  {
   "cell_type": "code",
   "execution_count": null,
   "metadata": {},
   "outputs": [],
   "source": [
    "z=(108-100)/(15/√36)=3.2\n",
    "probability of having value less than 108 is 0.9993 and more than or equals to 108 is (1-0.9993)=0.0007\n",
    "It is less than 0.05 so we will reject the Null hypothesis i.e. there is raw cornstarch effect"
   ]
  },
  {
   "cell_type": "markdown",
   "metadata": {},
   "source": [
    "Problem Statement 2:\n",
    "In one state, 52% of the voters are Republicans, and 48% are Democrats. In a second \n",
    "state, 47% of the voters are Republicans, and 53% are Democrats. Suppose a simple \n",
    "random sample of 100 voters are surveyed from each state.\n",
    "What is the probability that the survey will show a greater percentage of Republican \n",
    "voters in the second state than in the first state?"
   ]
  },
  {
   "cell_type": "code",
   "execution_count": null,
   "metadata": {},
   "outputs": [],
   "source": [
    "Difference in the proportion of republicans P^=0.52-0.47=0.05\n",
    "samples n1=100,n2=100\n",
    "sd=√((0.52(1−0.52)/100)+(0.47(1−0.47)/100))=0.070619\n",
    "assume p=0\n",
    "Z=0-0.05/0.070619=-0.708025\n",
    "From the Standard Normal table\n",
    "probability is 0.239464"
   ]
  },
  {
   "cell_type": "markdown",
   "metadata": {},
   "source": [
    "Problem Statement 3:\n",
    "You take the SAT and score 1100. The mean score for the SAT is 1026 and the standard \n",
    "deviation is 209. How well did you score on the test compared to the average test taker?"
   ]
  },
  {
   "cell_type": "code",
   "execution_count": null,
   "metadata": {},
   "outputs": [],
   "source": [
    "z=1100-1026/209=0.354\n",
    "score of .354 is .1368 + .5000 = .6368 or 63.68% \n",
    "The z-table shown has scores for the RIGHT of the mean. Therefore, we have to add .500 for all of the area LEFT of the mean.\n"
   ]
  }
 ],
 "metadata": {
  "kernelspec": {
   "display_name": "Python 3",
   "language": "python",
   "name": "python3"
  },
  "language_info": {
   "codemirror_mode": {
    "name": "ipython",
    "version": 3
   },
   "file_extension": ".py",
   "mimetype": "text/x-python",
   "name": "python",
   "nbconvert_exporter": "python",
   "pygments_lexer": "ipython3",
   "version": "3.8.5"
  }
 },
 "nbformat": 4,
 "nbformat_minor": 4
}
